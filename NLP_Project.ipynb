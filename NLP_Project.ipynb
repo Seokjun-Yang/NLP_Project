{
  "nbformat": 4,
  "nbformat_minor": 0,
  "metadata": {
    "colab": {
      "provenance": [],
      "gpuType": "T4",
      "authorship_tag": "ABX9TyNiqTPzfyIBW513yXdEVU/b"
    },
    "kernelspec": {
      "name": "python3",
      "display_name": "Python 3"
    },
    "language_info": {
      "name": "python"
    }
  },
  "cells": [
    {
      "cell_type": "code",
      "execution_count": null,
      "metadata": {
        "colab": {
          "base_uri": "https://localhost:8080/"
        },
        "id": "rTXhhw71aVQ1",
        "outputId": "d56603f8-0040-4d1c-8a64-b8c03200cda6"
      },
      "outputs": [
        {
          "output_type": "stream",
          "name": "stdout",
          "text": [
            "Mounted at /content/drive\n"
          ]
        }
      ],
      "source": [
        "from google.colab import drive\n",
        "drive.mount('/content/drive')"
      ]
    },
    {
      "cell_type": "code",
      "source": [
        "!pip install mxnet"
      ],
      "metadata": {
        "id": "cDwMeIzhag3y",
        "colab": {
          "base_uri": "https://localhost:8080/"
        },
        "outputId": "d416963c-762a-4ea0-bd67-659774ff0fb0"
      },
      "execution_count": 1,
      "outputs": [
        {
          "output_type": "stream",
          "name": "stdout",
          "text": [
            "Collecting mxnet\n",
            "  Downloading mxnet-1.9.1-py3-none-manylinux2014_x86_64.whl.metadata (3.4 kB)\n",
            "Requirement already satisfied: numpy<2.0.0,>1.16.0 in /usr/local/lib/python3.10/dist-packages (from mxnet) (1.26.4)\n",
            "Requirement already satisfied: requests<3,>=2.20.0 in /usr/local/lib/python3.10/dist-packages (from mxnet) (2.32.3)\n",
            "Collecting graphviz<0.9.0,>=0.8.1 (from mxnet)\n",
            "  Downloading graphviz-0.8.4-py2.py3-none-any.whl.metadata (6.4 kB)\n",
            "Requirement already satisfied: charset-normalizer<4,>=2 in /usr/local/lib/python3.10/dist-packages (from requests<3,>=2.20.0->mxnet) (3.4.0)\n",
            "Requirement already satisfied: idna<4,>=2.5 in /usr/local/lib/python3.10/dist-packages (from requests<3,>=2.20.0->mxnet) (3.10)\n",
            "Requirement already satisfied: urllib3<3,>=1.21.1 in /usr/local/lib/python3.10/dist-packages (from requests<3,>=2.20.0->mxnet) (2.2.3)\n",
            "Requirement already satisfied: certifi>=2017.4.17 in /usr/local/lib/python3.10/dist-packages (from requests<3,>=2.20.0->mxnet) (2024.8.30)\n",
            "Downloading mxnet-1.9.1-py3-none-manylinux2014_x86_64.whl (49.1 MB)\n",
            "\u001b[2K   \u001b[90m━━━━━━━━━━━━━━━━━━━━━━━━━━━━━━━━━━━━━━━━\u001b[0m \u001b[32m49.1/49.1 MB\u001b[0m \u001b[31m11.1 MB/s\u001b[0m eta \u001b[36m0:00:00\u001b[0m\n",
            "\u001b[?25hDownloading graphviz-0.8.4-py2.py3-none-any.whl (16 kB)\n",
            "Installing collected packages: graphviz, mxnet\n",
            "  Attempting uninstall: graphviz\n",
            "    Found existing installation: graphviz 0.20.3\n",
            "    Uninstalling graphviz-0.20.3:\n",
            "      Successfully uninstalled graphviz-0.20.3\n",
            "Successfully installed graphviz-0.8.4 mxnet-1.9.1\n"
          ]
        }
      ]
    },
    {
      "cell_type": "code",
      "source": [
        "!pip install gluonnlp pandas tqdm"
      ],
      "metadata": {
        "colab": {
          "base_uri": "https://localhost:8080/"
        },
        "id": "O8gBt5AUgjOY",
        "outputId": "188a86cd-d499-42e3-a53d-9d7df6edb693"
      },
      "execution_count": 2,
      "outputs": [
        {
          "output_type": "stream",
          "name": "stdout",
          "text": [
            "Collecting gluonnlp\n",
            "  Downloading gluonnlp-0.10.0.tar.gz (344 kB)\n",
            "\u001b[?25l     \u001b[90m━━━━━━━━━━━━━━━━━━━━━━━━━━━━━━━━━━━━━━━━\u001b[0m \u001b[32m0.0/344.5 kB\u001b[0m \u001b[31m?\u001b[0m eta \u001b[36m-:--:--\u001b[0m\r\u001b[2K     \u001b[91m━━━━━━━━━━━━━━━━━━━━━━━━━━━━━━━━━━━━━━━\u001b[0m\u001b[90m╺\u001b[0m \u001b[32m337.9/344.5 kB\u001b[0m \u001b[31m12.2 MB/s\u001b[0m eta \u001b[36m0:00:01\u001b[0m\r\u001b[2K     \u001b[90m━━━━━━━━━━━━━━━━━━━━━━━━━━━━━━━━━━━━━━━━\u001b[0m \u001b[32m344.5/344.5 kB\u001b[0m \u001b[31m8.9 MB/s\u001b[0m eta \u001b[36m0:00:00\u001b[0m\n",
            "\u001b[?25h  Preparing metadata (setup.py) ... \u001b[?25l\u001b[?25hdone\n",
            "Requirement already satisfied: pandas in /usr/local/lib/python3.10/dist-packages (2.2.2)\n",
            "Requirement already satisfied: tqdm in /usr/local/lib/python3.10/dist-packages (4.66.6)\n",
            "Requirement already satisfied: numpy>=1.16.0 in /usr/local/lib/python3.10/dist-packages (from gluonnlp) (1.26.4)\n",
            "Requirement already satisfied: cython in /usr/local/lib/python3.10/dist-packages (from gluonnlp) (3.0.11)\n",
            "Requirement already satisfied: packaging in /usr/local/lib/python3.10/dist-packages (from gluonnlp) (24.2)\n",
            "Requirement already satisfied: python-dateutil>=2.8.2 in /usr/local/lib/python3.10/dist-packages (from pandas) (2.8.2)\n",
            "Requirement already satisfied: pytz>=2020.1 in /usr/local/lib/python3.10/dist-packages (from pandas) (2024.2)\n",
            "Requirement already satisfied: tzdata>=2022.7 in /usr/local/lib/python3.10/dist-packages (from pandas) (2024.2)\n",
            "Requirement already satisfied: six>=1.5 in /usr/local/lib/python3.10/dist-packages (from python-dateutil>=2.8.2->pandas) (1.17.0)\n",
            "Building wheels for collected packages: gluonnlp\n",
            "  Building wheel for gluonnlp (setup.py) ... \u001b[?25l\u001b[?25hdone\n",
            "  Created wheel for gluonnlp: filename=gluonnlp-0.10.0-cp310-cp310-linux_x86_64.whl size=661658 sha256=d7a300043067b15e23b697b10d77dd7c78b4e65b6612bae727cff5053d7db10a\n",
            "  Stored in directory: /root/.cache/pip/wheels/1a/1e/0d/99f55911d90f2b95b9f7c176d5813ef3622894a4b30fde6bd3\n",
            "Successfully built gluonnlp\n",
            "Installing collected packages: gluonnlp\n",
            "Successfully installed gluonnlp-0.10.0\n"
          ]
        }
      ]
    },
    {
      "cell_type": "code",
      "source": [
        "!pip install sentencepiece"
      ],
      "metadata": {
        "colab": {
          "base_uri": "https://localhost:8080/"
        },
        "id": "WhI3cp1PhwU5",
        "outputId": "708a0ff4-7143-4f30-97a4-f1df22c3c0fa"
      },
      "execution_count": 3,
      "outputs": [
        {
          "output_type": "stream",
          "name": "stdout",
          "text": [
            "Requirement already satisfied: sentencepiece in /usr/local/lib/python3.10/dist-packages (0.2.0)\n"
          ]
        }
      ]
    },
    {
      "cell_type": "code",
      "source": [
        "!apt-get update\n",
        "!apt-get install -y build-essential cmake"
      ],
      "metadata": {
        "colab": {
          "base_uri": "https://localhost:8080/"
        },
        "id": "sER_YwNWiMru",
        "outputId": "481103b7-11cf-467b-b862-4e4cac12a00d"
      },
      "execution_count": 2,
      "outputs": [
        {
          "output_type": "stream",
          "name": "stdout",
          "text": [
            "\r0% [Working]\r            \rGet:1 https://cloud.r-project.org/bin/linux/ubuntu jammy-cran40/ InRelease [3,626 B]\n",
            "\r0% [Connecting to archive.ubuntu.com (185.125.190.82)] [Waiting for headers] [1 InRelease 3,626 B/3,\r0% [Connecting to archive.ubuntu.com (185.125.190.82)] [Waiting for headers] [Connected to r2u.stat.\r                                                                                                    \rGet:2 https://developer.download.nvidia.com/compute/cuda/repos/ubuntu2204/x86_64  InRelease [1,581 B]\n",
            "Hit:3 https://r2u.stat.illinois.edu/ubuntu jammy InRelease\n",
            "Hit:4 http://archive.ubuntu.com/ubuntu jammy InRelease\n",
            "Get:5 http://security.ubuntu.com/ubuntu jammy-security InRelease [129 kB]\n",
            "Get:6 http://archive.ubuntu.com/ubuntu jammy-updates InRelease [128 kB]\n",
            "Get:7 https://developer.download.nvidia.com/compute/cuda/repos/ubuntu2204/x86_64  Packages [1,196 kB]\n",
            "Hit:8 https://ppa.launchpadcontent.net/deadsnakes/ppa/ubuntu jammy InRelease\n",
            "Hit:9 https://ppa.launchpadcontent.net/graphics-drivers/ppa/ubuntu jammy InRelease\n",
            "Hit:10 https://ppa.launchpadcontent.net/ubuntugis/ppa/ubuntu jammy InRelease\n",
            "Get:11 http://archive.ubuntu.com/ubuntu jammy-backports InRelease [127 kB]\n",
            "Get:12 http://security.ubuntu.com/ubuntu jammy-security/restricted amd64 Packages [3,364 kB]\n",
            "Get:13 http://security.ubuntu.com/ubuntu jammy-security/universe amd64 Packages [1,226 kB]\n",
            "Get:14 http://security.ubuntu.com/ubuntu jammy-security/main amd64 Packages [2,469 kB]\n",
            "Get:15 http://archive.ubuntu.com/ubuntu jammy-updates/main amd64 Packages [2,755 kB]\n",
            "Get:16 http://archive.ubuntu.com/ubuntu jammy-updates/universe amd64 Packages [1,516 kB]\n",
            "Get:17 http://archive.ubuntu.com/ubuntu jammy-updates/restricted amd64 Packages [3,481 kB]\n",
            "Fetched 16.4 MB in 3s (6,408 kB/s)\n",
            "Reading package lists... Done\n",
            "W: Skipping acquire of configured file 'main/source/Sources' as repository 'https://r2u.stat.illinois.edu/ubuntu jammy InRelease' does not seem to provide it (sources.list entry misspelt?)\n",
            "Reading package lists... Done\n",
            "Building dependency tree... Done\n",
            "Reading state information... Done\n",
            "build-essential is already the newest version (12.9ubuntu3).\n",
            "cmake is already the newest version (3.22.1-1ubuntu1.22.04.2).\n",
            "0 upgraded, 0 newly installed, 0 to remove and 52 not upgraded.\n"
          ]
        }
      ]
    },
    {
      "cell_type": "code",
      "source": [
        "!pip install --upgrade pip"
      ],
      "metadata": {
        "colab": {
          "base_uri": "https://localhost:8080/"
        },
        "id": "LA-J2kHfjaLy",
        "outputId": "87cea98a-3779-46bc-dbf1-33f15be0c2c7"
      },
      "execution_count": 3,
      "outputs": [
        {
          "output_type": "stream",
          "name": "stdout",
          "text": [
            "Requirement already satisfied: pip in /usr/local/lib/python3.10/dist-packages (24.1.2)\n",
            "Collecting pip\n",
            "  Downloading pip-24.3.1-py3-none-any.whl.metadata (3.7 kB)\n",
            "Downloading pip-24.3.1-py3-none-any.whl (1.8 MB)\n",
            "\u001b[2K   \u001b[90m━━━━━━━━━━━━━━━━━━━━━━━━━━━━━━━━━━━━━━━━\u001b[0m \u001b[32m1.8/1.8 MB\u001b[0m \u001b[31m19.7 MB/s\u001b[0m eta \u001b[36m0:00:00\u001b[0m\n",
            "\u001b[?25hInstalling collected packages: pip\n",
            "  Attempting uninstall: pip\n",
            "    Found existing installation: pip 24.1.2\n",
            "    Uninstalling pip-24.1.2:\n",
            "      Successfully uninstalled pip-24.1.2\n",
            "Successfully installed pip-24.3.1\n"
          ]
        }
      ]
    },
    {
      "cell_type": "code",
      "source": [
        "!pip cache purge"
      ],
      "metadata": {
        "colab": {
          "base_uri": "https://localhost:8080/"
        },
        "id": "hAT8LUxVjsqE",
        "outputId": "450f059a-e677-431e-a6ce-44814363ecb9"
      },
      "execution_count": 4,
      "outputs": [
        {
          "output_type": "stream",
          "name": "stdout",
          "text": [
            "Files removed: 46\n"
          ]
        }
      ]
    },
    {
      "cell_type": "code",
      "source": [
        "!curl --proto '=https' --tlsv1.2 -sSf https://sh.rustup.rs"
      ],
      "metadata": {
        "colab": {
          "base_uri": "https://localhost:8080/"
        },
        "id": "2j1Ypsq7jz7x",
        "outputId": "9af83a40-c40a-4d52-a721-5222eddad0d9"
      },
      "execution_count": 9,
      "outputs": [
        {
          "output_type": "stream",
          "name": "stdout",
          "text": [
            "#!/bin/sh\n",
            "# shellcheck shell=dash\n",
            "# shellcheck disable=SC2039  # local is non-POSIX\n",
            "\n",
            "# This is just a little script that can be downloaded from the internet to\n",
            "# install rustup. It just does platform detection, downloads the installer\n",
            "# and runs it.\n",
            "\n",
            "# It runs on Unix shells like {a,ba,da,k,z}sh. It uses the common `local`\n",
            "# extension. Note: Most shells limit `local` to 1 var per line, contra bash.\n",
            "\n",
            "# Some versions of ksh have no `local` keyword. Alias it to `typeset`, but\n",
            "# beware this makes variables global with f()-style function syntax in ksh93.\n",
            "# mksh has this alias by default.\n",
            "has_local() {\n",
            "    # shellcheck disable=SC2034  # deliberately unused\n",
            "    local _has_local\n",
            "}\n",
            "\n",
            "has_local 2>/dev/null || alias local=typeset\n",
            "\n",
            "is_zsh() {\n",
            "    [ -n \"${ZSH_VERSION-}\" ]\n",
            "}\n",
            "\n",
            "set -u\n",
            "\n",
            "# If RUSTUP_UPDATE_ROOT is unset or empty, default it.\n",
            "RUSTUP_UPDATE_ROOT=\"${RUSTUP_UPDATE_ROOT:-https://static.rust-lang.org/rustup}\"\n",
            "\n",
            "# NOTICE: If you change anything here, please make the same changes in setup_mode.rs\n",
            "usage() {\n",
            "    cat <<EOF\n",
            "rustup-init 1.27.1 (a8e4f5c64 2024-04-24)\n",
            "\n",
            "The installer for rustup\n",
            "\n",
            "Usage: rustup-init[EXE] [OPTIONS]\n",
            "\n",
            "Options:\n",
            "  -v, --verbose\n",
            "          Enable verbose output\n",
            "  -q, --quiet\n",
            "          Disable progress output\n",
            "  -y\n",
            "          Disable confirmation prompt.\n",
            "      --default-host <default-host>\n",
            "          Choose a default host triple\n",
            "      --default-toolchain <default-toolchain>\n",
            "          Choose a default toolchain to install. Use 'none' to not install any toolchains at all\n",
            "      --profile <profile>\n",
            "          [default: default] [possible values: minimal, default, complete]\n",
            "  -c, --component <components>...\n",
            "          Component name to also install\n",
            "  -t, --target <targets>...\n",
            "          Target name to also install\n",
            "      --no-update-default-toolchain\n",
            "          Don't update any existing default toolchain after install\n",
            "      --no-modify-path\n",
            "          Don't configure the PATH environment variable\n",
            "  -h, --help\n",
            "          Print help\n",
            "  -V, --version\n",
            "          Print version\n",
            "EOF\n",
            "}\n",
            "\n",
            "main() {\n",
            "    downloader --check\n",
            "    need_cmd uname\n",
            "    need_cmd mktemp\n",
            "    need_cmd chmod\n",
            "    need_cmd mkdir\n",
            "    need_cmd rm\n",
            "    need_cmd rmdir\n",
            "\n",
            "    get_architecture || return 1\n",
            "    local _arch=\"$RETVAL\"\n",
            "    assert_nz \"$_arch\" \"arch\"\n",
            "\n",
            "    local _ext=\"\"\n",
            "    case \"$_arch\" in\n",
            "        *windows*)\n",
            "            _ext=\".exe\"\n",
            "            ;;\n",
            "    esac\n",
            "\n",
            "    local _url=\"${RUSTUP_UPDATE_ROOT}/dist/${_arch}/rustup-init${_ext}\"\n",
            "\n",
            "    local _dir\n",
            "    if ! _dir=\"$(ensure mktemp -d)\"; then\n",
            "        # Because the previous command ran in a subshell, we must manually\n",
            "        # propagate exit status.\n",
            "        exit 1\n",
            "    fi\n",
            "    local _file=\"${_dir}/rustup-init${_ext}\"\n",
            "\n",
            "    local _ansi_escapes_are_valid=false\n",
            "    if [ -t 2 ]; then\n",
            "        if [ \"${TERM+set}\" = 'set' ]; then\n",
            "            case \"$TERM\" in\n",
            "                xterm*|rxvt*|urxvt*|linux*|vt*)\n",
            "                    _ansi_escapes_are_valid=true\n",
            "                ;;\n",
            "            esac\n",
            "        fi\n",
            "    fi\n",
            "\n",
            "    # check if we have to use /dev/tty to prompt the user\n",
            "    local need_tty=yes\n",
            "    for arg in \"$@\"; do\n",
            "        case \"$arg\" in\n",
            "            --help)\n",
            "                usage\n",
            "                exit 0\n",
            "                ;;\n",
            "            *)\n",
            "                OPTIND=1\n",
            "                if [ \"${arg%%--*}\" = \"\" ]; then\n",
            "                    # Long option (other than --help);\n",
            "                    # don't attempt to interpret it.\n",
            "                    continue\n",
            "                fi\n",
            "                while getopts :hy sub_arg \"$arg\"; do\n",
            "                    case \"$sub_arg\" in\n",
            "                        h)\n",
            "                            usage\n",
            "                            exit 0\n",
            "                            ;;\n",
            "                        y)\n",
            "                            # user wants to skip the prompt --\n",
            "                            # we don't need /dev/tty\n",
            "                            need_tty=no\n",
            "                            ;;\n",
            "                        *)\n",
            "                            ;;\n",
            "                        esac\n",
            "                done\n",
            "                ;;\n",
            "        esac\n",
            "    done\n",
            "\n",
            "    if $_ansi_escapes_are_valid; then\n",
            "        printf \"\\33[1minfo:\\33[0m downloading installer\\n\" 1>&2\n",
            "    else\n",
            "        printf '%s\\n' 'info: downloading installer' 1>&2\n",
            "    fi\n",
            "\n",
            "    ensure mkdir -p \"$_dir\"\n",
            "    ensure downloader \"$_url\" \"$_file\" \"$_arch\"\n",
            "    ensure chmod u+x \"$_file\"\n",
            "    if [ ! -x \"$_file\" ]; then\n",
            "        printf '%s\\n' \"Cannot execute $_file (likely because of mounting /tmp as noexec).\" 1>&2\n",
            "        printf '%s\\n' \"Please copy the file to a location where you can execute binaries and run ./rustup-init${_ext}.\" 1>&2\n",
            "        exit 1\n",
            "    fi\n",
            "\n",
            "    if [ \"$need_tty\" = \"yes\" ] && [ ! -t 0 ]; then\n",
            "        # The installer is going to want to ask for confirmation by\n",
            "        # reading stdin.  This script was piped into `sh` though and\n",
            "        # doesn't have stdin to pass to its children. Instead we're going\n",
            "        # to explicitly connect /dev/tty to the installer's stdin.\n",
            "        if [ ! -t 1 ]; then\n",
            "            err \"Unable to run interactively. Run with -y to accept defaults, --help for additional options\"\n",
            "        fi\n",
            "\n",
            "        ignore \"$_file\" \"$@\" < /dev/tty\n",
            "    else\n",
            "        ignore \"$_file\" \"$@\"\n",
            "    fi\n",
            "\n",
            "    local _retval=$?\n",
            "\n",
            "    ignore rm \"$_file\"\n",
            "    ignore rmdir \"$_dir\"\n",
            "\n",
            "    return \"$_retval\"\n",
            "}\n",
            "\n",
            "check_proc() {\n",
            "    # Check for /proc by looking for the /proc/self/exe link\n",
            "    # This is only run on Linux\n",
            "    if ! test -L /proc/self/exe ; then\n",
            "        err \"fatal: Unable to find /proc/self/exe.  Is /proc mounted?  Installation cannot proceed without /proc.\"\n",
            "    fi\n",
            "}\n",
            "\n",
            "get_bitness() {\n",
            "    need_cmd head\n",
            "    # Architecture detection without dependencies beyond coreutils.\n",
            "    # ELF files start out \"\\x7fELF\", and the following byte is\n",
            "    #   0x01 for 32-bit and\n",
            "    #   0x02 for 64-bit.\n",
            "    # The printf builtin on some shells like dash only supports octal\n",
            "    # escape sequences, so we use those.\n",
            "    local _current_exe_head\n",
            "    _current_exe_head=$(head -c 5 /proc/self/exe )\n",
            "    if [ \"$_current_exe_head\" = \"$(printf '\\177ELF\\001')\" ]; then\n",
            "        echo 32\n",
            "    elif [ \"$_current_exe_head\" = \"$(printf '\\177ELF\\002')\" ]; then\n",
            "        echo 64\n",
            "    else\n",
            "        err \"unknown platform bitness\"\n",
            "    fi\n",
            "}\n",
            "\n",
            "is_host_amd64_elf() {\n",
            "    need_cmd head\n",
            "    need_cmd tail\n",
            "    # ELF e_machine detection without dependencies beyond coreutils.\n",
            "    # Two-byte field at offset 0x12 indicates the CPU,\n",
            "    # but we're interested in it being 0x3E to indicate amd64, or not that.\n",
            "    local _current_exe_machine\n",
            "    _current_exe_machine=$(head -c 19 /proc/self/exe | tail -c 1)\n",
            "    [ \"$_current_exe_machine\" = \"$(printf '\\076')\" ]\n",
            "}\n",
            "\n",
            "get_endianness() {\n",
            "    local cputype=$1\n",
            "    local suffix_eb=$2\n",
            "    local suffix_el=$3\n",
            "\n",
            "    # detect endianness without od/hexdump, like get_bitness() does.\n",
            "    need_cmd head\n",
            "    need_cmd tail\n",
            "\n",
            "    local _current_exe_endianness\n",
            "    _current_exe_endianness=\"$(head -c 6 /proc/self/exe | tail -c 1)\"\n",
            "    if [ \"$_current_exe_endianness\" = \"$(printf '\\001')\" ]; then\n",
            "        echo \"${cputype}${suffix_el}\"\n",
            "    elif [ \"$_current_exe_endianness\" = \"$(printf '\\002')\" ]; then\n",
            "        echo \"${cputype}${suffix_eb}\"\n",
            "    else\n",
            "        err \"unknown platform endianness\"\n",
            "    fi\n",
            "}\n",
            "\n",
            "# Detect the Linux/LoongArch UAPI flavor, with all errors being non-fatal.\n",
            "# Returns 0 or 234 in case of successful detection, 1 otherwise (/tmp being\n",
            "# noexec, or other causes).\n",
            "check_loongarch_uapi() {\n",
            "    need_cmd base64\n",
            "\n",
            "    local _tmp\n",
            "    if ! _tmp=\"$(ensure mktemp)\"; then\n",
            "        return 1\n",
            "    fi\n",
            "\n",
            "    # Minimal Linux/LoongArch UAPI detection, exiting with 0 in case of\n",
            "    # upstream (\"new world\") UAPI, and 234 (-EINVAL truncated) in case of\n",
            "    # old-world (as deployed on several early commercial Linux distributions\n",
            "    # for LoongArch).\n",
            "    #\n",
            "    # See https://gist.github.com/xen0n/5ee04aaa6cecc5c7794b9a0c3b65fc7f for\n",
            "    # source to this helper binary.\n",
            "    ignore base64 -d > \"$_tmp\" <<EOF\n",
            "f0VMRgIBAQAAAAAAAAAAAAIAAgEBAAAAeAAgAAAAAABAAAAAAAAAAAAAAAAAAAAAQQAAAEAAOAAB\n",
            "AAAAAAAAAAEAAAAFAAAAAAAAAAAAAAAAACAAAAAAAAAAIAAAAAAAJAAAAAAAAAAkAAAAAAAAAAAA\n",
            "AQAAAAAABCiAAwUAFQAGABUAByCAAwsYggMAACsAC3iBAwAAKwAxen0n\n",
            "EOF\n",
            "\n",
            "    ignore chmod u+x \"$_tmp\"\n",
            "    if [ ! -x \"$_tmp\" ]; then\n",
            "        ignore rm \"$_tmp\"\n",
            "        return 1\n",
            "    fi\n",
            "\n",
            "    \"$_tmp\"\n",
            "    local _retval=$?\n",
            "\n",
            "    ignore rm \"$_tmp\"\n",
            "    return \"$_retval\"\n",
            "}\n",
            "\n",
            "ensure_loongarch_uapi() {\n",
            "    check_loongarch_uapi\n",
            "    case $? in\n",
            "        0)\n",
            "            return 0\n",
            "            ;;\n",
            "        234)\n",
            "            echo >&2\n",
            "            echo 'Your Linux kernel does not provide the ABI required by this Rust' >&2\n",
            "            echo 'distribution.  Please check with your OS provider for how to obtain a' >&2\n",
            "            echo 'compatible Rust package for your system.' >&2\n",
            "            echo >&2\n",
            "            exit 1\n",
            "            ;;\n",
            "        *)\n",
            "            echo \"Warning: Cannot determine current system's ABI flavor, continuing anyway.\" >&2\n",
            "            echo >&2\n",
            "            echo 'Note that the official Rust distribution only works with the upstream' >&2\n",
            "            echo 'kernel ABI.  Installation will fail if your running kernel happens to be' >&2\n",
            "            echo 'incompatible.' >&2\n",
            "            ;;\n",
            "    esac\n",
            "}\n",
            "\n",
            "get_architecture() {\n",
            "    local _ostype _cputype _bitness _arch _clibtype\n",
            "    _ostype=\"$(uname -s)\"\n",
            "    _cputype=\"$(uname -m)\"\n",
            "    _clibtype=\"gnu\"\n",
            "\n",
            "    if [ \"$_ostype\" = Linux ]; then\n",
            "        if [ \"$(uname -o)\" = Android ]; then\n",
            "            _ostype=Android\n",
            "        fi\n",
            "        if ldd --version 2>&1 | grep -q 'musl'; then\n",
            "            _clibtype=\"musl\"\n",
            "        fi\n",
            "    fi\n",
            "\n",
            "    if [ \"$_ostype\" = Darwin ]; then\n",
            "        # Darwin `uname -m` can lie due to Rosetta shenanigans. If you manage to\n",
            "        # invoke a native shell binary and then a native uname binary, you can\n",
            "        # get the real answer, but that's hard to ensure, so instead we use\n",
            "        # `sysctl` (which doesn't lie) to check for the actual architecture.\n",
            "        if [ \"$_cputype\" = i386 ]; then\n",
            "            # Handling i386 compatibility mode in older macOS versions (<10.15)\n",
            "            # running on x86_64-based Macs.\n",
            "            # Starting from 10.15, macOS explicitly bans all i386 binaries from running.\n",
            "            # See: <https://support.apple.com/en-us/HT208436>\n",
            "\n",
            "            # Avoid `sysctl: unknown oid` stderr output and/or non-zero exit code.\n",
            "            if sysctl hw.optional.x86_64 2> /dev/null || true | grep -q ': 1'; then\n",
            "                _cputype=x86_64\n",
            "            fi\n",
            "        elif [ \"$_cputype\" = x86_64 ]; then\n",
            "            # Handling x86-64 compatibility mode (a.k.a. Rosetta 2)\n",
            "            # in newer macOS versions (>=11) running on arm64-based Macs.\n",
            "            # Rosetta 2 is built exclusively for x86-64 and cannot run i386 binaries.\n",
            "\n",
            "            # Avoid `sysctl: unknown oid` stderr output and/or non-zero exit code.\n",
            "            if sysctl hw.optional.arm64 2> /dev/null || true | grep -q ': 1'; then\n",
            "                _cputype=arm64\n",
            "            fi\n",
            "        fi\n",
            "    fi\n",
            "\n",
            "    if [ \"$_ostype\" = SunOS ]; then\n",
            "        # Both Solaris and illumos presently announce as \"SunOS\" in \"uname -s\"\n",
            "        # so use \"uname -o\" to disambiguate.  We use the full path to the\n",
            "        # system uname in case the user has coreutils uname first in PATH,\n",
            "        # which has historically sometimes printed the wrong value here.\n",
            "        if [ \"$(/usr/bin/uname -o)\" = illumos ]; then\n",
            "            _ostype=illumos\n",
            "        fi\n",
            "\n",
            "        # illumos systems have multi-arch userlands, and \"uname -m\" reports the\n",
            "        # machine hardware name; e.g., \"i86pc\" on both 32- and 64-bit x86\n",
            "        # systems.  Check for the native (widest) instruction set on the\n",
            "        # running kernel:\n",
            "        if [ \"$_cputype\" = i86pc ]; then\n",
            "            _cputype=\"$(isainfo -n)\"\n",
            "        fi\n",
            "    fi\n",
            "\n",
            "    case \"$_ostype\" in\n",
            "\n",
            "        Android)\n",
            "            _ostype=linux-android\n",
            "            ;;\n",
            "\n",
            "        Linux)\n",
            "            check_proc\n",
            "            _ostype=unknown-linux-$_clibtype\n",
            "            _bitness=$(get_bitness)\n",
            "            ;;\n",
            "\n",
            "        FreeBSD)\n",
            "            _ostype=unknown-freebsd\n",
            "            ;;\n",
            "\n",
            "        NetBSD)\n",
            "            _ostype=unknown-netbsd\n",
            "            ;;\n",
            "\n",
            "        DragonFly)\n",
            "            _ostype=unknown-dragonfly\n",
            "            ;;\n",
            "\n",
            "        Darwin)\n",
            "            _ostype=apple-darwin\n",
            "            ;;\n",
            "\n",
            "        illumos)\n",
            "            _ostype=unknown-illumos\n",
            "            ;;\n",
            "\n",
            "        MINGW* | MSYS* | CYGWIN* | Windows_NT)\n",
            "            _ostype=pc-windows-gnu\n",
            "            ;;\n",
            "\n",
            "        *)\n",
            "            err \"unrecognized OS type: $_ostype\"\n",
            "            ;;\n",
            "\n",
            "    esac\n",
            "\n",
            "    case \"$_cputype\" in\n",
            "\n",
            "        i386 | i486 | i686 | i786 | x86)\n",
            "            _cputype=i686\n",
            "            ;;\n",
            "\n",
            "        xscale | arm)\n",
            "            _cputype=arm\n",
            "            if [ \"$_ostype\" = \"linux-android\" ]; then\n",
            "                _ostype=linux-androideabi\n",
            "            fi\n",
            "            ;;\n",
            "\n",
            "        armv6l)\n",
            "            _cputype=arm\n",
            "            if [ \"$_ostype\" = \"linux-android\" ]; then\n",
            "                _ostype=linux-androideabi\n",
            "            else\n",
            "                _ostype=\"${_ostype}eabihf\"\n",
            "            fi\n",
            "            ;;\n",
            "\n",
            "        armv7l | armv8l)\n",
            "            _cputype=armv7\n",
            "            if [ \"$_ostype\" = \"linux-android\" ]; then\n",
            "                _ostype=linux-androideabi\n",
            "            else\n",
            "                _ostype=\"${_ostype}eabihf\"\n",
            "            fi\n",
            "            ;;\n",
            "\n",
            "        aarch64 | arm64)\n",
            "            _cputype=aarch64\n",
            "            ;;\n",
            "\n",
            "        x86_64 | x86-64 | x64 | amd64)\n",
            "            _cputype=x86_64\n",
            "            ;;\n",
            "\n",
            "        mips)\n",
            "            _cputype=$(get_endianness mips '' el)\n",
            "            ;;\n",
            "\n",
            "        mips64)\n",
            "            if [ \"$_bitness\" -eq 64 ]; then\n",
            "                # only n64 ABI is supported for now\n",
            "                _ostype=\"${_ostype}abi64\"\n",
            "                _cputype=$(get_endianness mips64 '' el)\n",
            "            fi\n",
            "            ;;\n",
            "\n",
            "        ppc)\n",
            "            _cputype=powerpc\n",
            "            ;;\n",
            "\n",
            "        ppc64)\n",
            "            _cputype=powerpc64\n",
            "            ;;\n",
            "\n",
            "        ppc64le)\n",
            "            _cputype=powerpc64le\n",
            "            ;;\n",
            "\n",
            "        s390x)\n",
            "            _cputype=s390x\n",
            "            ;;\n",
            "        riscv64)\n",
            "            _cputype=riscv64gc\n",
            "            ;;\n",
            "        loongarch64)\n",
            "            _cputype=loongarch64\n",
            "            ensure_loongarch_uapi\n",
            "            ;;\n",
            "        *)\n",
            "            err \"unknown CPU type: $_cputype\"\n",
            "\n",
            "    esac\n",
            "\n",
            "    # Detect 64-bit linux with 32-bit userland\n",
            "    if [ \"${_ostype}\" = unknown-linux-gnu ] && [ \"${_bitness}\" -eq 32 ]; then\n",
            "        case $_cputype in\n",
            "            x86_64)\n",
            "                if [ -n \"${RUSTUP_CPUTYPE:-}\" ]; then\n",
            "                    _cputype=\"$RUSTUP_CPUTYPE\"\n",
            "                else {\n",
            "                    # 32-bit executable for amd64 = x32\n",
            "                    if is_host_amd64_elf; then {\n",
            "                         echo \"This host is running an x32 userland; as it stands, x32 support is poor,\" 1>&2\n",
            "                         echo \"and there isn't a native toolchain -- you will have to install\" 1>&2\n",
            "                         echo \"multiarch compatibility with i686 and/or amd64, then select one\" 1>&2\n",
            "                         echo \"by re-running this script with the RUSTUP_CPUTYPE environment variable\" 1>&2\n",
            "                         echo \"set to i686 or x86_64, respectively.\" 1>&2\n",
            "                         echo 1>&2\n",
            "                         echo \"You will be able to add an x32 target after installation by running\" 1>&2\n",
            "                         echo \"  rustup target add x86_64-unknown-linux-gnux32\" 1>&2\n",
            "                         exit 1\n",
            "                    }; else\n",
            "                        _cputype=i686\n",
            "                    fi\n",
            "                }; fi\n",
            "                ;;\n",
            "            mips64)\n",
            "                _cputype=$(get_endianness mips '' el)\n",
            "                ;;\n",
            "            powerpc64)\n",
            "                _cputype=powerpc\n",
            "                ;;\n",
            "            aarch64)\n",
            "                _cputype=armv7\n",
            "                if [ \"$_ostype\" = \"linux-android\" ]; then\n",
            "                    _ostype=linux-androideabi\n",
            "                else\n",
            "                    _ostype=\"${_ostype}eabihf\"\n",
            "                fi\n",
            "                ;;\n",
            "            riscv64gc)\n",
            "                err \"riscv64 with 32-bit userland unsupported\"\n",
            "                ;;\n",
            "        esac\n",
            "    fi\n",
            "\n",
            "    # Detect armv7 but without the CPU features Rust needs in that build,\n",
            "    # and fall back to arm.\n",
            "    # See https://github.com/rust-lang/rustup.rs/issues/587.\n",
            "    if [ \"$_ostype\" = \"unknown-linux-gnueabihf\" ] && [ \"$_cputype\" = armv7 ]; then\n",
            "        if ensure grep '^Features' /proc/cpuinfo | grep -E -q -v 'neon|simd'; then\n",
            "            # At least one processor does not have NEON (which is asimd on armv8+).\n",
            "            _cputype=arm\n",
            "        fi\n",
            "    fi\n",
            "\n",
            "    _arch=\"${_cputype}-${_ostype}\"\n",
            "\n",
            "    RETVAL=\"$_arch\"\n",
            "}\n",
            "\n",
            "say() {\n",
            "    printf 'rustup: %s\\n' \"$1\"\n",
            "}\n",
            "\n",
            "err() {\n",
            "    say \"$1\" >&2\n",
            "    exit 1\n",
            "}\n",
            "\n",
            "need_cmd() {\n",
            "    if ! check_cmd \"$1\"; then\n",
            "        err \"need '$1' (command not found)\"\n",
            "    fi\n",
            "}\n",
            "\n",
            "check_cmd() {\n",
            "    command -v \"$1\" > /dev/null 2>&1\n",
            "}\n",
            "\n",
            "assert_nz() {\n",
            "    if [ -z \"$1\" ]; then err \"assert_nz $2\"; fi\n",
            "}\n",
            "\n",
            "# Run a command that should never fail. If the command fails execution\n",
            "# will immediately terminate with an error showing the failing\n",
            "# command.\n",
            "ensure() {\n",
            "    if ! \"$@\"; then err \"command failed: $*\"; fi\n",
            "}\n",
            "\n",
            "# This is just for indicating that commands' results are being\n",
            "# intentionally ignored. Usually, because it's being executed\n",
            "# as part of error handling.\n",
            "ignore() {\n",
            "    \"$@\"\n",
            "}\n",
            "\n",
            "# This wraps curl or wget. Try curl first, if not installed,\n",
            "# use wget instead.\n",
            "downloader() {\n",
            "    # zsh does not split words by default, Required for curl retry arguments below.\n",
            "    is_zsh && setopt local_options shwordsplit\n",
            "\n",
            "    local _dld\n",
            "    local _ciphersuites\n",
            "    local _err\n",
            "    local _status\n",
            "    local _retry\n",
            "    if check_cmd curl; then\n",
            "        _dld=curl\n",
            "    elif check_cmd wget; then\n",
            "        _dld=wget\n",
            "    else\n",
            "        _dld='curl or wget' # to be used in error message of need_cmd\n",
            "    fi\n",
            "\n",
            "    if [ \"$1\" = --check ]; then\n",
            "        need_cmd \"$_dld\"\n",
            "    elif [ \"$_dld\" = curl ]; then\n",
            "        check_curl_for_retry_support\n",
            "        _retry=\"$RETVAL\"\n",
            "        get_ciphersuites_for_curl\n",
            "        _ciphersuites=\"$RETVAL\"\n",
            "        if [ -n \"$_ciphersuites\" ]; then\n",
            "            _err=$(curl $_retry --proto '=https' --tlsv1.2 --ciphers \"$_ciphersuites\" --silent --show-error --fail --location \"$1\" --output \"$2\" 2>&1)\n",
            "            _status=$?\n",
            "        else\n",
            "            echo \"Warning: Not enforcing strong cipher suites for TLS, this is potentially less secure\"\n",
            "            if ! check_help_for \"$3\" curl --proto --tlsv1.2; then\n",
            "                echo \"Warning: Not enforcing TLS v1.2, this is potentially less secure\"\n",
            "                _err=$(curl $_retry --silent --show-error --fail --location \"$1\" --output \"$2\" 2>&1)\n",
            "                _status=$?\n",
            "            else\n",
            "                _err=$(curl $_retry --proto '=https' --tlsv1.2 --silent --show-error --fail --location \"$1\" --output \"$2\" 2>&1)\n",
            "                _status=$?\n",
            "            fi\n",
            "        fi\n",
            "        if [ -n \"$_err\" ]; then\n",
            "            echo \"$_err\" >&2\n",
            "            if echo \"$_err\" | grep -q 404$; then\n",
            "                err \"installer for platform '$3' not found, this may be unsupported\"\n",
            "            fi\n",
            "        fi\n",
            "        return $_status\n",
            "    elif [ \"$_dld\" = wget ]; then\n",
            "        if [ \"$(wget -V 2>&1|head -2|tail -1|cut -f1 -d\" \")\" = \"BusyBox\" ]; then\n",
            "            echo \"Warning: using the BusyBox version of wget.  Not enforcing strong cipher suites for TLS or TLS v1.2, this is potentially less secure\"\n",
            "            _err=$(wget \"$1\" -O \"$2\" 2>&1)\n",
            "            _status=$?\n",
            "        else\n",
            "            get_ciphersuites_for_wget\n",
            "            _ciphersuites=\"$RETVAL\"\n",
            "            if [ -n \"$_ciphersuites\" ]; then\n",
            "                _err=$(wget --https-only --secure-protocol=TLSv1_2 --ciphers \"$_ciphersuites\" \"$1\" -O \"$2\" 2>&1)\n",
            "                _status=$?\n",
            "            else\n",
            "                echo \"Warning: Not enforcing strong cipher suites for TLS, this is potentially less secure\"\n",
            "                if ! check_help_for \"$3\" wget --https-only --secure-protocol; then\n",
            "                    echo \"Warning: Not enforcing TLS v1.2, this is potentially less secure\"\n",
            "                    _err=$(wget \"$1\" -O \"$2\" 2>&1)\n",
            "                    _status=$?\n",
            "                else\n",
            "                    _err=$(wget --https-only --secure-protocol=TLSv1_2 \"$1\" -O \"$2\" 2>&1)\n",
            "                    _status=$?\n",
            "                fi\n",
            "            fi\n",
            "        fi\n",
            "        if [ -n \"$_err\" ]; then\n",
            "            echo \"$_err\" >&2\n",
            "            if echo \"$_err\" | grep -q ' 404 Not Found$'; then\n",
            "                err \"installer for platform '$3' not found, this may be unsupported\"\n",
            "            fi\n",
            "        fi\n",
            "        return $_status\n",
            "    else\n",
            "        err \"Unknown downloader\"   # should not reach here\n",
            "    fi\n",
            "}\n",
            "\n",
            "check_help_for() {\n",
            "    local _arch\n",
            "    local _cmd\n",
            "    local _arg\n",
            "    _arch=\"$1\"\n",
            "    shift\n",
            "    _cmd=\"$1\"\n",
            "    shift\n",
            "\n",
            "    local _category\n",
            "    if \"$_cmd\" --help | grep -q 'For all options use the manual or \"--help all\".'; then\n",
            "      _category=\"all\"\n",
            "    else\n",
            "      _category=\"\"\n",
            "    fi\n",
            "\n",
            "    case \"$_arch\" in\n",
            "\n",
            "        *darwin*)\n",
            "        if check_cmd sw_vers; then\n",
            "            case $(sw_vers -productVersion) in\n",
            "                10.*)\n",
            "                    # If we're running on macOS, older than 10.13, then we always\n",
            "                    # fail to find these options to force fallback\n",
            "                    if [ \"$(sw_vers -productVersion | cut -d. -f2)\" -lt 13 ]; then\n",
            "                        # Older than 10.13\n",
            "                        echo \"Warning: Detected macOS platform older than 10.13\"\n",
            "                        return 1\n",
            "                    fi\n",
            "                    ;;\n",
            "                11.*)\n",
            "                    # We assume Big Sur will be OK for now\n",
            "                    ;;\n",
            "                *)\n",
            "                    # Unknown product version, warn and continue\n",
            "                    echo \"Warning: Detected unknown macOS major version: $(sw_vers -productVersion)\"\n",
            "                    echo \"Warning TLS capabilities detection may fail\"\n",
            "                    ;;\n",
            "            esac\n",
            "        fi\n",
            "        ;;\n",
            "\n",
            "    esac\n",
            "\n",
            "    for _arg in \"$@\"; do\n",
            "        if ! \"$_cmd\" --help \"$_category\" | grep -q -- \"$_arg\"; then\n",
            "            return 1\n",
            "        fi\n",
            "    done\n",
            "\n",
            "    true # not strictly needed\n",
            "}\n",
            "\n",
            "# Check if curl supports the --retry flag, then pass it to the curl invocation.\n",
            "check_curl_for_retry_support() {\n",
            "    local _retry_supported=\"\"\n",
            "    # \"unspecified\" is for arch, allows for possibility old OS using macports, homebrew, etc.\n",
            "    if check_help_for \"notspecified\" \"curl\" \"--retry\"; then\n",
            "        _retry_supported=\"--retry 3\"\n",
            "        if check_help_for \"notspecified\" \"curl\" \"--continue-at\"; then\n",
            "            # \"-C -\" tells curl to automatically find where to resume the download when retrying.\n",
            "            _retry_supported=\"--retry 3 -C -\"\n",
            "        fi\n",
            "    fi\n",
            "\n",
            "    RETVAL=\"$_retry_supported\"\n",
            "}\n",
            "\n",
            "# Return cipher suite string specified by user, otherwise return strong TLS 1.2-1.3 cipher suites\n",
            "# if support by local tools is detected. Detection currently supports these curl backends:\n",
            "# GnuTLS and OpenSSL (possibly also LibreSSL and BoringSSL). Return value can be empty.\n",
            "get_ciphersuites_for_curl() {\n",
            "    if [ -n \"${RUSTUP_TLS_CIPHERSUITES-}\" ]; then\n",
            "        # user specified custom cipher suites, assume they know what they're doing\n",
            "        RETVAL=\"$RUSTUP_TLS_CIPHERSUITES\"\n",
            "        return\n",
            "    fi\n",
            "\n",
            "    local _openssl_syntax=\"no\"\n",
            "    local _gnutls_syntax=\"no\"\n",
            "    local _backend_supported=\"yes\"\n",
            "    if curl -V | grep -q ' OpenSSL/'; then\n",
            "        _openssl_syntax=\"yes\"\n",
            "    elif curl -V | grep -iq ' LibreSSL/'; then\n",
            "        _openssl_syntax=\"yes\"\n",
            "    elif curl -V | grep -iq ' BoringSSL/'; then\n",
            "        _openssl_syntax=\"yes\"\n",
            "    elif curl -V | grep -iq ' GnuTLS/'; then\n",
            "        _gnutls_syntax=\"yes\"\n",
            "    else\n",
            "        _backend_supported=\"no\"\n",
            "    fi\n",
            "\n",
            "    local _args_supported=\"no\"\n",
            "    if [ \"$_backend_supported\" = \"yes\" ]; then\n",
            "        # \"unspecified\" is for arch, allows for possibility old OS using macports, homebrew, etc.\n",
            "        if check_help_for \"notspecified\" \"curl\" \"--tlsv1.2\" \"--ciphers\" \"--proto\"; then\n",
            "            _args_supported=\"yes\"\n",
            "        fi\n",
            "    fi\n",
            "\n",
            "    local _cs=\"\"\n",
            "    if [ \"$_args_supported\" = \"yes\" ]; then\n",
            "        if [ \"$_openssl_syntax\" = \"yes\" ]; then\n",
            "            _cs=$(get_strong_ciphersuites_for \"openssl\")\n",
            "        elif [ \"$_gnutls_syntax\" = \"yes\" ]; then\n",
            "            _cs=$(get_strong_ciphersuites_for \"gnutls\")\n",
            "        fi\n",
            "    fi\n",
            "\n",
            "    RETVAL=\"$_cs\"\n",
            "}\n",
            "\n",
            "# Return cipher suite string specified by user, otherwise return strong TLS 1.2-1.3 cipher suites\n",
            "# if support by local tools is detected. Detection currently supports these wget backends:\n",
            "# GnuTLS and OpenSSL (possibly also LibreSSL and BoringSSL). Return value can be empty.\n",
            "get_ciphersuites_for_wget() {\n",
            "    if [ -n \"${RUSTUP_TLS_CIPHERSUITES-}\" ]; then\n",
            "        # user specified custom cipher suites, assume they know what they're doing\n",
            "        RETVAL=\"$RUSTUP_TLS_CIPHERSUITES\"\n",
            "        return\n",
            "    fi\n",
            "\n",
            "    local _cs=\"\"\n",
            "    if wget -V | grep -q '\\-DHAVE_LIBSSL'; then\n",
            "        # \"unspecified\" is for arch, allows for possibility old OS using macports, homebrew, etc.\n",
            "        if check_help_for \"notspecified\" \"wget\" \"TLSv1_2\" \"--ciphers\" \"--https-only\" \"--secure-protocol\"; then\n",
            "            _cs=$(get_strong_ciphersuites_for \"openssl\")\n",
            "        fi\n",
            "    elif wget -V | grep -q '\\-DHAVE_LIBGNUTLS'; then\n",
            "        # \"unspecified\" is for arch, allows for possibility old OS using macports, homebrew, etc.\n",
            "        if check_help_for \"notspecified\" \"wget\" \"TLSv1_2\" \"--ciphers\" \"--https-only\" \"--secure-protocol\"; then\n",
            "            _cs=$(get_strong_ciphersuites_for \"gnutls\")\n",
            "        fi\n",
            "    fi\n",
            "\n",
            "    RETVAL=\"$_cs\"\n",
            "}\n",
            "\n",
            "# Return strong TLS 1.2-1.3 cipher suites in OpenSSL or GnuTLS syntax. TLS 1.2\n",
            "# excludes non-ECDHE and non-AEAD cipher suites. DHE is excluded due to bad\n",
            "# DH params often found on servers (see RFC 7919). Sequence matches or is\n",
            "# similar to Firefox 68 ESR with weak cipher suites disabled via about:config.\n",
            "# $1 must be openssl or gnutls.\n",
            "get_strong_ciphersuites_for() {\n",
            "    if [ \"$1\" = \"openssl\" ]; then\n",
            "        # OpenSSL is forgiving of unknown values, no problems with TLS 1.3 values on versions that don't support it yet.\n",
            "        echo \"TLS_AES_128_GCM_SHA256:TLS_CHACHA20_POLY1305_SHA256:TLS_AES_256_GCM_SHA384:ECDHE-ECDSA-AES128-GCM-SHA256:ECDHE-RSA-AES128-GCM-SHA256:ECDHE-ECDSA-CHACHA20-POLY1305:ECDHE-RSA-CHACHA20-POLY1305:ECDHE-ECDSA-AES256-GCM-SHA384:ECDHE-RSA-AES256-GCM-SHA384\"\n",
            "    elif [ \"$1\" = \"gnutls\" ]; then\n",
            "        # GnuTLS isn't forgiving of unknown values, so this may require a GnuTLS version that supports TLS 1.3 even if wget doesn't.\n",
            "        # Begin with SECURE128 (and higher) then remove/add to build cipher suites. Produces same 9 cipher suites as OpenSSL but in slightly different order.\n",
            "        echo \"SECURE128:-VERS-SSL3.0:-VERS-TLS1.0:-VERS-TLS1.1:-VERS-DTLS-ALL:-CIPHER-ALL:-MAC-ALL:-KX-ALL:+AEAD:+ECDHE-ECDSA:+ECDHE-RSA:+AES-128-GCM:+CHACHA20-POLY1305:+AES-256-GCM\"\n",
            "    fi\n",
            "}\n",
            "\n",
            "main \"$@\" || exit 1\n"
          ]
        }
      ]
    },
    {
      "cell_type": "code",
      "source": [
        "!curl --proto '=https' --tlsv1.2 -sSf https://sh.rustup.rs -o rustup-init.sh"
      ],
      "metadata": {
        "id": "CKwQfu4QmQh8"
      },
      "execution_count": 12,
      "outputs": []
    },
    {
      "cell_type": "code",
      "source": [
        "!sh rustup-init.sh"
      ],
      "metadata": {
        "colab": {
          "base_uri": "https://localhost:8080/"
        },
        "id": "yTZ2Im7E5tGy",
        "outputId": "a783ef41-7990-4825-d197-358916f0d486"
      },
      "execution_count": 14,
      "outputs": [
        {
          "output_type": "stream",
          "name": "stdout",
          "text": [
            "\u001b[1minfo:\u001b[0m downloading installer\n",
            "\u001b[0m\u001b[1m\n",
            "Welcome to Rust!\n",
            "\u001b[0m\n",
            "This will download and install the official compiler for the Rust\n",
            "programming language, and its package manager, Cargo.\n",
            "\n",
            "Rustup metadata and toolchains will be installed into the Rustup\n",
            "home directory, located at:\n",
            "\n",
            "  /root/.rustup\n",
            "\n",
            "This can be modified with the RUSTUP_HOME environment variable.\n",
            "\n",
            "The Cargo home directory is located at:\n",
            "\n",
            "  /root/.cargo\n",
            "\n",
            "This can be modified with the CARGO_HOME environment variable.\n",
            "\n",
            "The \u001b[0m\u001b[1mcargo\u001b[0m, \u001b[0m\u001b[1mrustc\u001b[0m, \u001b[0m\u001b[1mrustup\u001b[0m and other commands will be added to\n",
            "Cargo's bin directory, located at:\n",
            "\n",
            "  /root/.cargo/bin\n",
            "\n",
            "This path will then be added to your \u001b[0m\u001b[1mPATH\u001b[0m environment variable by\n",
            "modifying the profile files located at:\n",
            "\n",
            "  /root/.profile\n",
            "  /root/.bashrc\n",
            "\n",
            "You can uninstall at any time with \u001b[0m\u001b[1mrustup self uninstall\u001b[0m and\n",
            "these changes will be reverted.\n",
            "\n",
            "Current installation options:\n",
            "\n",
            "\n",
            "\u001b[0m\u001b[1m   \u001b[0mdefault host triple: \u001b[0m\u001b[1mx86_64-unknown-linux-gnu\u001b[0m\n",
            "\u001b[0m\u001b[1m     \u001b[0mdefault toolchain: \u001b[0m\u001b[1mstable (default)\u001b[0m\n",
            "\u001b[0m\u001b[1m               \u001b[0mprofile: \u001b[0m\u001b[1mdefault\u001b[0m\n",
            "  modify PATH variable: \u001b[0m\u001b[1myes\u001b[0m\n",
            "\n",
            "1) Proceed with standard installation (default - just press enter)\n",
            "2) Customize installation\n",
            "3) Cancel installation\n",
            ">1\n",
            "\n",
            "\u001b[0m\u001b[1minfo: \u001b[0mprofile set to 'default'\n",
            "\u001b[0m\u001b[1minfo: \u001b[0mdefault host triple is x86_64-unknown-linux-gnu\n",
            "\u001b[0m\u001b[1minfo: \u001b[0msyncing channel updates for 'stable-x86_64-unknown-linux-gnu'\n",
            "\u001b[0m\u001b[1minfo: \u001b[0mlatest update on 2024-11-28, rust version 1.83.0 (90b35a623 2024-11-26)\n",
            "\u001b[0m\u001b[1minfo: \u001b[0mdownloading component 'cargo'\n",
            "\u001b[0m\u001b[1minfo: \u001b[0mdownloading component 'clippy'\n",
            "\u001b[0m\u001b[1minfo: \u001b[0mdownloading component 'rust-docs'\n",
            "\u001b[0m\u001b[1minfo: \u001b[0mdownloading component 'rust-std'\n",
            "\u001b[0m\u001b[1minfo: \u001b[0mdownloading component 'rustc'\n",
            "\u001b[0m\u001b[1minfo: \u001b[0mdownloading component 'rustfmt'\n",
            "\u001b[0m\u001b[1minfo: \u001b[0minstalling component 'cargo'\n",
            "\u001b[0m\u001b[1minfo: \u001b[0minstalling component 'clippy'\n",
            "\u001b[0m\u001b[1minfo: \u001b[0minstalling component 'rust-docs'\n",
            " 16.4 MiB /  16.4 MiB (100 %)   1.8 MiB/s in 12s ETA:  0s\n",
            "\u001b[0m\u001b[1minfo: \u001b[0minstalling component 'rust-std'\n",
            " 26.1 MiB /  26.1 MiB (100 %)   6.5 MiB/s in  3s ETA:  0s\n",
            "\u001b[0m\u001b[1minfo: \u001b[0minstalling component 'rustc'\n",
            " 69.3 MiB /  69.3 MiB (100 %)   6.5 MiB/s in 11s ETA:  0s\n",
            "\u001b[0m\u001b[1minfo: \u001b[0minstalling component 'rustfmt'\n",
            "\u001b[0m\u001b[1minfo: \u001b[0mdefault toolchain set to 'stable-x86_64-unknown-linux-gnu'\n",
            "\n",
            "  \u001b[0m\u001b[1m\u001b[0m\u001b[1m\u001b[32mstable-x86_64-unknown-linux-gnu installed\u001b[0m - rustc 1.83.0 (90b35a623 2024-11-26)\n",
            "\n",
            "\u001b[0m\u001b[1m\n",
            "Rust is installed now. Great!\n",
            "\u001b[0m\n",
            "To get started you may need to restart your current shell.\n",
            "This would reload your \u001b[0m\u001b[1mPATH\u001b[0m environment variable to include\n",
            "Cargo's bin directory ($HOME/.cargo/bin).\n",
            "\n",
            "To configure your current shell, you need to source\n",
            "the corresponding \u001b[0m\u001b[1menv\u001b[0m file under $HOME/.cargo.\n",
            "\n",
            "This is usually done by running one of the following (note the leading DOT):\n",
            ". \"$HOME/.cargo/env\"            # For sh/bash/zsh/ash/dash/pdksh\n",
            "source \"$HOME/.cargo/env.fish\"  # For fish\n"
          ]
        }
      ]
    },
    {
      "cell_type": "code",
      "source": [
        "!git clone https://github.com/huggingface/tokenizers.git\n",
        "%cd tokenizers\n",
        "!git pull origin main"
      ],
      "metadata": {
        "colab": {
          "base_uri": "https://localhost:8080/"
        },
        "id": "L5LXPPky6qxe",
        "outputId": "90e6f379-0e62-4257-fc51-cd1ce5a2794e"
      },
      "execution_count": 18,
      "outputs": [
        {
          "output_type": "stream",
          "name": "stdout",
          "text": [
            "Cloning into 'tokenizers'...\n",
            "remote: Enumerating objects: 20131, done.\u001b[K\n",
            "remote: Counting objects: 100% (358/358), done.\u001b[K\n",
            "remote: Compressing objects: 100% (173/173), done.\u001b[K\n",
            "remote: Total 20131 (delta 225), reused 284 (delta 182), pack-reused 19773 (from 1)\u001b[K\n",
            "Receiving objects: 100% (20131/20131), 10.22 MiB | 16.72 MiB/s, done.\n",
            "Resolving deltas: 100% (13555/13555), done.\n",
            "/content/tokenizers\n",
            "From https://github.com/huggingface/tokenizers\n",
            " * branch              main       -> FETCH_HEAD\n",
            "Already up to date.\n"
          ]
        }
      ]
    },
    {
      "cell_type": "code",
      "source": [
        "%env CMAKE_ARGS=\"-DLLAMA_CUBLAS=on\""
      ],
      "metadata": {
        "colab": {
          "base_uri": "https://localhost:8080/"
        },
        "id": "Fw-i6rTN9Sks",
        "outputId": "2f2603c1-092a-44a7-e4d5-bf75aef63969"
      },
      "execution_count": 19,
      "outputs": [
        {
          "output_type": "stream",
          "name": "stdout",
          "text": [
            "env: CMAKE_ARGS=\"-DLLAMA_CUBLAS=on\"\n"
          ]
        }
      ]
    },
    {
      "cell_type": "code",
      "source": [
        "!git clone https://github.com/huggingface/tokenizers.git"
      ],
      "metadata": {
        "colab": {
          "base_uri": "https://localhost:8080/"
        },
        "id": "GwLh9DSH9aHC",
        "outputId": "47c689a4-09f8-4c61-ad2d-ccb854db10ee"
      },
      "execution_count": 29,
      "outputs": [
        {
          "output_type": "stream",
          "name": "stdout",
          "text": [
            "Cloning into 'tokenizers'...\n",
            "remote: Enumerating objects: 20131, done.\u001b[K\n",
            "remote: Counting objects: 100% (358/358), done.\u001b[K\n",
            "remote: Compressing objects: 100% (173/173), done.\u001b[K\n",
            "remote: Total 20131 (delta 225), reused 286 (delta 182), pack-reused 19773 (from 1)\u001b[K\n",
            "Receiving objects: 100% (20131/20131), 10.23 MiB | 13.97 MiB/s, done.\n",
            "Resolving deltas: 100% (13551/13551), done.\n"
          ]
        }
      ]
    },
    {
      "cell_type": "code",
      "source": [
        "%cd tokenizers"
      ],
      "metadata": {
        "colab": {
          "base_uri": "https://localhost:8080/"
        },
        "id": "o53bKMP5_SnR",
        "outputId": "452080ce-ba8d-498c-a8c4-0454e5f283e5"
      },
      "execution_count": 2,
      "outputs": [
        {
          "output_type": "stream",
          "name": "stdout",
          "text": [
            "/content/tokenizers\n"
          ]
        }
      ]
    },
    {
      "cell_type": "code",
      "source": [
        "!pip install torch"
      ],
      "metadata": {
        "colab": {
          "base_uri": "https://localhost:8080/"
        },
        "id": "8ImHxX4nQVL-",
        "outputId": "46dff9e8-5665-41dc-cad1-b4c0344cae60"
      },
      "execution_count": 9,
      "outputs": [
        {
          "output_type": "stream",
          "name": "stdout",
          "text": [
            "Requirement already satisfied: torch in /usr/local/lib/python3.10/dist-packages (2.5.1+cu121)\n",
            "Requirement already satisfied: filelock in /usr/local/lib/python3.10/dist-packages (from torch) (3.16.1)\n",
            "Requirement already satisfied: typing-extensions>=4.8.0 in /usr/local/lib/python3.10/dist-packages (from torch) (4.12.2)\n",
            "Requirement already satisfied: networkx in /usr/local/lib/python3.10/dist-packages (from torch) (3.4.2)\n",
            "Requirement already satisfied: jinja2 in /usr/local/lib/python3.10/dist-packages (from torch) (3.1.4)\n",
            "Requirement already satisfied: fsspec in /usr/local/lib/python3.10/dist-packages (from torch) (2024.10.0)\n",
            "Requirement already satisfied: sympy==1.13.1 in /usr/local/lib/python3.10/dist-packages (from torch) (1.13.1)\n",
            "Requirement already satisfied: mpmath<1.4,>=1.1.0 in /usr/local/lib/python3.10/dist-packages (from sympy==1.13.1->torch) (1.3.0)\n",
            "Requirement already satisfied: MarkupSafe>=2.0 in /usr/local/lib/python3.10/dist-packages (from jinja2->torch) (3.0.2)\n"
          ]
        }
      ]
    },
    {
      "cell_type": "code",
      "source": [
        "!apt-get update\n",
        "!apt-get install -y --upgrade build-essential cmake"
      ],
      "metadata": {
        "colab": {
          "base_uri": "https://localhost:8080/"
        },
        "id": "Nr1OfhRrUlgF",
        "outputId": "ed918a6d-6710-42b2-d797-58a4a2307dc1"
      },
      "execution_count": 15,
      "outputs": [
        {
          "output_type": "stream",
          "name": "stdout",
          "text": [
            "\r0% [Working]\r            \rHit:1 https://developer.download.nvidia.com/compute/cuda/repos/ubuntu2204/x86_64  InRelease\n",
            "\r0% [Connecting to archive.ubuntu.com (185.125.190.81)] [Waiting for headers] [Waiting for headers] [\r                                                                                                    \rGet:2 https://cloud.r-project.org/bin/linux/ubuntu jammy-cran40/ InRelease [3,626 B]\n",
            "Hit:3 https://r2u.stat.illinois.edu/ubuntu jammy InRelease\n",
            "Hit:4 http://archive.ubuntu.com/ubuntu jammy InRelease\n",
            "Get:5 http://archive.ubuntu.com/ubuntu jammy-updates InRelease [128 kB]\n",
            "Get:6 http://security.ubuntu.com/ubuntu jammy-security InRelease [129 kB]\n",
            "Hit:7 https://ppa.launchpadcontent.net/deadsnakes/ppa/ubuntu jammy InRelease\n",
            "Hit:8 https://ppa.launchpadcontent.net/graphics-drivers/ppa/ubuntu jammy InRelease\n",
            "Hit:9 https://ppa.launchpadcontent.net/ubuntugis/ppa/ubuntu jammy InRelease\n",
            "Get:10 http://archive.ubuntu.com/ubuntu jammy-backports InRelease [127 kB]\n",
            "Get:11 http://archive.ubuntu.com/ubuntu jammy-updates/universe amd64 Packages [1,516 kB]\n",
            "Get:12 http://archive.ubuntu.com/ubuntu jammy-updates/main amd64 Packages [2,755 kB]\n",
            "Fetched 4,659 kB in 2s (2,219 kB/s)\n",
            "Reading package lists... Done\n",
            "W: Skipping acquire of configured file 'main/source/Sources' as repository 'https://r2u.stat.illinois.edu/ubuntu jammy InRelease' does not seem to provide it (sources.list entry misspelt?)\n",
            "Reading package lists... Done\n",
            "Building dependency tree... Done\n",
            "Reading state information... Done\n",
            "build-essential is already the newest version (12.9ubuntu3).\n",
            "cmake is already the newest version (3.22.1-1ubuntu1.22.04.2).\n",
            "0 upgraded, 0 newly installed, 0 to remove and 52 not upgraded.\n"
          ]
        }
      ]
    },
    {
      "cell_type": "code",
      "source": [
        "!pip cache purge\n",
        "!rm -rf /content/tokenizers/build"
      ],
      "metadata": {
        "colab": {
          "base_uri": "https://localhost:8080/"
        },
        "id": "voirerLnZI95",
        "outputId": "a1a6a1f5-6b56-424c-9c10-c426615256d9"
      },
      "execution_count": 16,
      "outputs": [
        {
          "output_type": "stream",
          "name": "stdout",
          "text": [
            "Files removed: 46\n"
          ]
        }
      ]
    },
    {
      "cell_type": "code",
      "source": [
        "%env CMAKE_ARGS=\"-DLLAMA_CUBLAS=on\""
      ],
      "metadata": {
        "colab": {
          "base_uri": "https://localhost:8080/"
        },
        "id": "psknOqoWaiVH",
        "outputId": "a1c382ce-3eb4-4cff-9d2c-f5cfa7dcacb9"
      },
      "execution_count": 17,
      "outputs": [
        {
          "output_type": "stream",
          "name": "stdout",
          "text": [
            "env: CMAKE_ARGS=\"-DLLAMA_CUBLAS=on\"\n"
          ]
        }
      ]
    },
    {
      "cell_type": "code",
      "source": [
        "!pip install -e ."
      ],
      "metadata": {
        "colab": {
          "base_uri": "https://localhost:8080/"
        },
        "id": "i46fV0gkaqhS",
        "outputId": "e6b913fa-e794-4534-ecc0-668bd702d109"
      },
      "execution_count": 22,
      "outputs": [
        {
          "output_type": "stream",
          "name": "stdout",
          "text": [
            "/content\n"
          ]
        }
      ]
    },
    {
      "cell_type": "code",
      "source": [
        "!pip install transformers==3.0.2"
      ],
      "metadata": {
        "id": "f_Cqi7uBqtau"
      },
      "execution_count": null,
      "outputs": []
    },
    {
      "cell_type": "code",
      "source": [
        "!pip install git+https://git@github.com/SKTBrain/KoBERT.git@master"
      ],
      "metadata": {
        "colab": {
          "base_uri": "https://localhost:8080/"
        },
        "id": "L6sRGieJqyCR",
        "outputId": "c50716eb-eb6f-457c-a008-8850521c35fd"
      },
      "execution_count": 24,
      "outputs": [
        {
          "output_type": "stream",
          "name": "stdout",
          "text": [
            "/content\n"
          ]
        }
      ]
    },
    {
      "cell_type": "code",
      "source": [
        "import torch\n",
        "from torch import nn\n",
        "import torch.nn.functional as F\n",
        "import torch.optim as optim\n",
        "from torch.utils.data import Dataset, DataLoader\n",
        "import gluonnlp as nlp\n",
        "import numpy as np\n",
        "from tqdm import tqdm, tqdm_notebook\n",
        "\n",
        "from kobert.utils import get_tokenizer\n",
        "from kobert.pytorch_kobert import get_pytorch_kobert_model\n",
        "\n",
        "from transformers import AdamW\n",
        "from transformers.optimization import get_cosine_schedule_with_warmup\n",
        "\n",
        "import pandas as pd"
      ],
      "metadata": {
        "id": "i9NYSt3gq_VM"
      },
      "execution_count": null,
      "outputs": []
    },
    {
      "cell_type": "code",
      "source": [
        "device = torch.device(\"cuda:0\")"
      ],
      "metadata": {
        "id": "EX5Sv0T_rB6F"
      },
      "execution_count": null,
      "outputs": []
    },
    {
      "cell_type": "code",
      "source": [
        "path = 'common path/'\n",
        "train_data = pd.read_csv(path + 'train_data.csv',encoding='utf-8-sig')"
      ],
      "metadata": {
        "id": "Gc1Vni11rE2c"
      },
      "execution_count": null,
      "outputs": []
    },
    {
      "cell_type": "code",
      "source": [
        "train_dataset = []\n",
        "for sen, label in zip(train_data['title'], train_data['topic_idx']):\n",
        "  data_train = []\n",
        "  data_train.append(sen)\n",
        "  data_train.append(str(label))\n",
        "\n",
        "  train_dataset.append(data_train)"
      ],
      "metadata": {
        "id": "3EVVBwfxrSVt"
      },
      "execution_count": null,
      "outputs": []
    },
    {
      "cell_type": "code",
      "source": [
        "class BERTDataset(Dataset):\n",
        "    def __init__(self, dataset, sent_idx, label_idx, bert_tokenizer, max_len,\n",
        "                 pad, pair):\n",
        "        transform = nlp.data.BERTSentenceTransform(\n",
        "            bert_tokenizer, max_seq_length=max_len, pad=pad, pair=pair)\n",
        "\n",
        "        self.sentences = [transform([i[sent_idx]]) for i in dataset]\n",
        "        self.labels = [np.int32(i[label_idx]) for i in dataset]\n",
        "\n",
        "    def __getitem__(self, i):\n",
        "        return (self.sentences[i] + (self.labels[i], ))\n",
        "\n",
        "    def __len__(self):\n",
        "        return (len(self.labels))"
      ],
      "metadata": {
        "id": "R7eQ4K3LrTYi"
      },
      "execution_count": null,
      "outputs": []
    },
    {
      "cell_type": "code",
      "source": [
        "max_len = 64\n",
        "batch_size = 32\n",
        "warmup_ratio = 0.1\n",
        "num_epochs = 4\n",
        "max_grad_norm = 1\n",
        "log_interval = 200\n",
        "learning_rate =  4e-5"
      ],
      "metadata": {
        "id": "-cCNCSm-rVnz"
      },
      "execution_count": null,
      "outputs": []
    },
    {
      "cell_type": "code",
      "source": [
        "bertmodel, vocab = get_pytorch_kobert_model()"
      ],
      "metadata": {
        "id": "mOXegFytrYlO"
      },
      "execution_count": null,
      "outputs": []
    },
    {
      "cell_type": "code",
      "source": [
        "tokenizer = get_tokenizer()\n",
        "tok = nlp.data.BERTSPTokenizer(tokenizer, vocab, lower=False)\n",
        "\n",
        "data_train = BERTDataset(train_dataset, 0, 1, tok, max_len, True, False)"
      ],
      "metadata": {
        "id": "Cp8tV3UHrdef"
      },
      "execution_count": null,
      "outputs": []
    },
    {
      "cell_type": "code",
      "source": [
        "train_dataloader = torch.utils.data.DataLoader(data_train, batch_size=batch_size, num_workers=2)"
      ],
      "metadata": {
        "id": "KvkAjMEtreVU"
      },
      "execution_count": null,
      "outputs": []
    },
    {
      "cell_type": "code",
      "source": [
        "class BERTClassifier(nn.Module):\n",
        "    def __init__(self,\n",
        "                 bert,\n",
        "                 hidden_size = 768,\n",
        "                 num_classes=7,\n",
        "                 dr_rate=None,\n",
        "                 params=None):\n",
        "        super(BERTClassifier, self).__init__()\n",
        "        self.bert = bert\n",
        "        self.dr_rate = dr_rate\n",
        "\n",
        "        self.classifier = nn.Linear(hidden_size , num_classes)\n",
        "        if dr_rate:\n",
        "            self.dropout = nn.Dropout(p=dr_rate)\n",
        "\n",
        "    def gen_attention_mask(self, token_ids, valid_length):\n",
        "        attention_mask = torch.zeros_like(token_ids)\n",
        "        for i, v in enumerate(valid_length):\n",
        "            attention_mask[i][:v] = 1\n",
        "        return attention_mask.float()\n",
        "\n",
        "    def forward(self, token_ids, valid_length, segment_ids):\n",
        "        attention_mask = self.gen_attention_mask(token_ids, valid_length)\n",
        "\n",
        "        _, pooler = self.bert(input_ids = token_ids, token_type_ids = segment_ids.long(), attention_mask = attention_mask.float().to(token_ids.device))\n",
        "        if self.dr_rate:\n",
        "            out = self.dropout(pooler)\n",
        "        return self.classifier(out)"
      ],
      "metadata": {
        "id": "I5Ntt3sVrgkz"
      },
      "execution_count": null,
      "outputs": []
    },
    {
      "cell_type": "code",
      "source": [
        "model = BERTClassifier(bertmodel, dr_rate=0.4).to(device)\n",
        "\n",
        "no_decay = ['bias', 'LayerNorm.weight']\n",
        "optimizer_grouped_parameters = [\n",
        "    {'params': [p for n, p in model.named_parameters() if not any(nd in n for nd in no_decay)], 'weight_decay': 0.01},\n",
        "    {'params': [p for n, p in model.named_parameters() if any(nd in n for nd in no_decay)], 'weight_decay': 0.0}\n",
        "]\n",
        "\n",
        "optimizer = AdamW(optimizer_grouped_parameters, lr=learning_rate)\n",
        "loss_fn = nn.CrossEntropyLoss()\n",
        "\n",
        "t_total = len(train_dataloader) * num_epochs\n",
        "warmup_step = int(t_total * warmup_ratio)\n",
        "\n",
        "scheduler = get_cosine_schedule_with_warmup(optimizer, num_warmup_steps=warmup_step, num_training_steps=t_total)\n",
        "\n",
        "def calc_accuracy(X,Y):\n",
        "    max_vals, max_indices = torch.max(X, 1)\n",
        "    train_acc = (max_indices == Y).sum().data.cpu().numpy()/max_indices.size()[0]\n",
        "    return train_acc"
      ],
      "metadata": {
        "id": "Yy7RXes1rjnN"
      },
      "execution_count": null,
      "outputs": []
    },
    {
      "cell_type": "code",
      "source": [
        "for e in range(num_epochs):\n",
        "    train_acc = 0.0\n",
        "    model.train()\n",
        "    for batch_id, (token_ids, valid_length, segment_ids, label) in enumerate(tqdm_notebook(train_dataloader)):\n",
        "        optimizer.zero_grad()\n",
        "        token_ids = token_ids.long().to(device)\n",
        "        segment_ids = segment_ids.long().to(device)\n",
        "        valid_length= valid_length\n",
        "        label = label.long().to(device)\n",
        "        out = model(token_ids, valid_length, segment_ids)\n",
        "        loss = loss_fn(out, label)\n",
        "        loss.backward()\n",
        "        torch.nn.utils.clip_grad_norm_(model.parameters(), max_grad_norm)\n",
        "        optimizer.step()\n",
        "        scheduler.step()\n",
        "        train_acc += calc_accuracy(out, label)\n",
        "        if batch_id % log_interval == 0:\n",
        "            print(\"epoch {} batch id {} loss {} train acc {}\".format(e+1, batch_id+1, loss.data.cpu().numpy(), train_acc / (batch_id+1)))\n",
        "    print(\"epoch {} train acc {}\".format(e+1, train_acc / (batch_id+1)))"
      ],
      "metadata": {
        "id": "5p_0GyOor5fp"
      },
      "execution_count": null,
      "outputs": []
    },
    {
      "cell_type": "code",
      "source": [
        "tokenizer = get_tokenizer()\n",
        "tok = nlp.data.BERTSPTokenizer(tokenizer, vocab, lower=False)\n",
        "\n",
        "def predict(sentence):\n",
        "  data = [sentence, '0']\n",
        "  dataset_another = [data]\n",
        "  logits = 0\n",
        "  another_test = BERTDataset(dataset_another, 0, 1, tok, max_len, True, False)\n",
        "  test_dataloader = torch.utils.data.DataLoader(another_test, batch_size=batch_size, num_workers=5)\n",
        "\n",
        "  model.eval()\n",
        "\n",
        "  for batch_id, (token_ids, valid_length, segment_ids, label) in enumerate(test_dataloader):\n",
        "      token_ids = token_ids.long().to(device)\n",
        "      segment_ids = segment_ids.long().to(device)\n",
        "\n",
        "      valid_length= valid_length\n",
        "      label = label.long().to(device)\n",
        "\n",
        "      out = model(token_ids, valid_length, segment_ids)\n",
        "\n",
        "      for i in out:\n",
        "        logits = i\n",
        "        logits = logits.detach().cpu().numpy()\n",
        "        logits = np.argmax(logits)\n",
        "\n",
        "  return logits"
      ],
      "metadata": {
        "id": "vwur9eaWsBpD"
      },
      "execution_count": null,
      "outputs": []
    },
    {
      "cell_type": "code",
      "source": [
        "test = pd.read_csv(path + 'test_data.csv')\n",
        "submission = pd.read_csv(path + 'sample_submission.csv')"
      ],
      "metadata": {
        "id": "lE6fyoTPsNa1"
      },
      "execution_count": null,
      "outputs": []
    },
    {
      "cell_type": "code",
      "source": [
        "label_answer = []\n",
        "step = 0\n",
        "for i in tqdm(test['title']):\n",
        "  label_answer.append(predict(i))"
      ],
      "metadata": {
        "id": "xNShx_ETsOau"
      },
      "execution_count": null,
      "outputs": []
    },
    {
      "cell_type": "code",
      "source": [
        "submission['topic_idx'] = label_answer\n",
        "submission.to_csv(path + 'private.csv', index=False)"
      ],
      "metadata": {
        "id": "HWqDcSz6sQMZ"
      },
      "execution_count": null,
      "outputs": []
    }
  ]
}